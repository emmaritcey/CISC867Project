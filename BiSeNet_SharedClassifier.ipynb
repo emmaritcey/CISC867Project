{
  "nbformat": 4,
  "nbformat_minor": 0,
  "metadata": {
    "colab": {
      "name": " BiSeNet_SharedClassifier.ipynb",
      "provenance": [],
      "collapsed_sections": []
    },
    "kernelspec": {
      "name": "python3",
      "display_name": "Python 3"
    },
    "language_info": {
      "name": "python"
    }
  },
  "cells": [
    {
      "cell_type": "markdown",
      "metadata": {
        "id": "gRT3hWmxpQJe"
      },
      "source": [
        ""
      ]
    },
    {
      "cell_type": "code",
      "metadata": {
        "id": "bZTHTgZOuBQL"
      },
      "source": [
        "%matplotlib inline  \n",
        "import matplotlib.pyplot as plt\n",
        "import tensorflow as tf \n",
        "from keras.models import Model\n",
        "from tensorflow.keras import datasets, layers, models\n",
        "from keras.layers import Conv2D, Input, multiply, UpSampling2D, Concatenate\n",
        "from keras.applications.resnet import ResNet101,preprocess_input\n",
        "from keras.preprocessing.image import load_img, img_to_array\n",
        "from tensorflow.keras.activations import sigmoid\n",
        "from tensorflow.keras.applications.resnet import ResNet101\n",
        "from tensorflow.nn import softmax\n"
      ],
      "execution_count": 26,
      "outputs": []
    },
    {
      "cell_type": "code",
      "metadata": {
        "id": "kOQvkfA8t9AT"
      },
      "source": [
        "import os\n",
        "import numpy as np\n",
        "import random as rn\n",
        "from keras import backend as K\n",
        "\n",
        "#-----------------------------Keras reproducible------------------#\n",
        "SEED = 1234\n",
        "\n",
        "tf.random.set_seed(SEED)\n",
        "os.environ['PYTHONHASHSEED'] = str(SEED)\n",
        "np.random.seed(SEED)\n",
        "rn.seed(SEED)\n",
        "session_conf = tf.compat.v1.ConfigProto(\n",
        "    intra_op_parallelism_threads=1, \n",
        "    inter_op_parallelism_threads=1\n",
        ")\n",
        "sess = tf.compat.v1.Session(\n",
        "    graph=tf.compat.v1.get_default_graph(), \n",
        "    config=session_conf\n",
        ")\n",
        "K.set_session(sess)"
      ],
      "execution_count": 27,
      "outputs": []
    },
    {
      "cell_type": "code",
      "metadata": {
        "colab": {
          "base_uri": "https://localhost:8080/"
        },
        "id": "rF68qcA7HMnA",
        "outputId": "798de443-7ce4-415f-ced7-b4747f390730"
      },
      "source": [
        "!wget https://wallpapercave.com/wp/qTcYPPc.jpg"
      ],
      "execution_count": 28,
      "outputs": [
        {
          "output_type": "stream",
          "name": "stdout",
          "text": [
            "--2021-10-22 15:39:42--  https://wallpapercave.com/wp/qTcYPPc.jpg\n",
            "Resolving wallpapercave.com (wallpapercave.com)... 172.67.20.199, 104.22.61.71, 104.22.60.71, ...\n",
            "Connecting to wallpapercave.com (wallpapercave.com)|172.67.20.199|:443... connected.\n",
            "HTTP request sent, awaiting response... 200 OK\n",
            "Length: 304341 (297K) [image/jpeg]\n",
            "Saving to: ‘qTcYPPc.jpg’\n",
            "\n",
            "qTcYPPc.jpg         100%[===================>] 297.21K   670KB/s    in 0.4s    \n",
            "\n",
            "2021-10-22 15:39:44 (670 KB/s) - ‘qTcYPPc.jpg’ saved [304341/304341]\n",
            "\n"
          ]
        }
      ]
    },
    {
      "cell_type": "code",
      "metadata": {
        "id": "umGbY120HSO8"
      },
      "source": [
        "!mv qTcYPPc.jpg dog.jpg"
      ],
      "execution_count": 29,
      "outputs": []
    },
    {
      "cell_type": "code",
      "metadata": {
        "id": "PgBVlCbhFBwr",
        "colab": {
          "base_uri": "https://localhost:8080/"
        },
        "outputId": "050a0738-9d5f-40ec-a22f-20ed67f4a6f0"
      },
      "source": [
        "image = load_img('dog.jpg', target_size=(224, 224))\n",
        "image = img_to_array(image)\n",
        "image.shape"
      ],
      "execution_count": 30,
      "outputs": [
        {
          "output_type": "execute_result",
          "data": {
            "text/plain": [
              "(224, 224, 3)"
            ]
          },
          "metadata": {},
          "execution_count": 30
        }
      ]
    },
    {
      "cell_type": "code",
      "metadata": {
        "id": "OmBFlqVOIT0f",
        "colab": {
          "base_uri": "https://localhost:8080/"
        },
        "outputId": "05f7389a-06e5-4fbe-85c3-31d249095b2b"
      },
      "source": [
        "\n",
        "# reshape data for the model\n",
        "image = image.reshape((1, image.shape[0], image.shape[1], image.shape[2]))\n",
        "print(image.shape)\n",
        "# prepare the image for the VGG model\n",
        "image = preprocess_input(image)\n",
        "print(image.shape)"
      ],
      "execution_count": 31,
      "outputs": [
        {
          "output_type": "stream",
          "name": "stdout",
          "text": [
            "(1, 224, 224, 3)\n",
            "(1, 224, 224, 3)\n"
          ]
        }
      ]
    },
    {
      "cell_type": "code",
      "metadata": {
        "id": "i2qhhWH4DxGw",
        "colab": {
          "base_uri": "https://localhost:8080/"
        },
        "outputId": "878a7261-a5f2-4097-be3f-04f24c0586cf"
      },
      "source": [
        "inputs = Input(shape=(224, 224, 3))\n",
        "inputs"
      ],
      "execution_count": 32,
      "outputs": [
        {
          "output_type": "execute_result",
          "data": {
            "text/plain": [
              "<KerasTensor: shape=(None, 224, 224, 3) dtype=float32 (created by layer 'input_2')>"
            ]
          },
          "metadata": {},
          "execution_count": 32
        }
      ]
    },
    {
      "cell_type": "code",
      "metadata": {
        "id": "GpNh9yBZcDB-"
      },
      "source": [
        "resnet_model = ResNet101(weights='imagenet',input_tensor=inputs, include_top=False)"
      ],
      "execution_count": 33,
      "outputs": []
    },
    {
      "cell_type": "code",
      "metadata": {
        "id": "tV39NGqecGoT"
      },
      "source": [
        "#resnet_model.summary()"
      ],
      "execution_count": 34,
      "outputs": []
    },
    {
      "cell_type": "code",
      "metadata": {
        "id": "mMU6inSm2FVe"
      },
      "source": [
        "def conv_bn_relu(input, filters, kernel_size=(3, 3), strides=(2, 2), padding='same'):\n",
        "  x = layers.Conv2D(filters=filters, kernel_size=kernel_size, strides=strides, padding=padding, use_bias=False)(input) \n",
        "  x = layers.BatchNormalization()(x)\n",
        "  x = layers.ReLU()(x)\n",
        "  return x"
      ],
      "execution_count": 35,
      "outputs": []
    },
    {
      "cell_type": "markdown",
      "metadata": {
        "id": "MzT918uZIK0O"
      },
      "source": [
        "## spatial path"
      ]
    },
    {
      "cell_type": "code",
      "metadata": {
        "id": "vhxRcvtFY_iA"
      },
      "source": [
        "#extracts feature maps that are 1/8 of the original image\n",
        "def spatial_path(input):\n",
        "  x = conv_bn_relu(input, 64)\n",
        "  x = conv_bn_relu(x, 128)\n",
        "  x = conv_bn_relu(x, 256)\n",
        "  return x\n"
      ],
      "execution_count": 36,
      "outputs": []
    },
    {
      "cell_type": "markdown",
      "metadata": {
        "id": "tFj_n1lOITw_"
      },
      "source": [
        "## context path"
      ]
    },
    {
      "cell_type": "code",
      "metadata": {
        "id": "i-Nl6mQZcOhD"
      },
      "source": [
        "def attention_refinement_module(out_channels, input):\n",
        "  x = layers.GlobalAveragePooling2D(keepdims=True)(input)\n",
        "\n",
        "  x = layers.Conv2D(filters=out_channels, kernel_size=(1, 1), strides=(1, 1))(x)  \n",
        "\n",
        "  x = layers.BatchNormalization()(x)\n",
        "  x = layers.Activation('sigmoid')(x)\n",
        "  \n",
        "  x = layers.Multiply()([input, x])\n",
        "\n",
        "  return x"
      ],
      "execution_count": 37,
      "outputs": []
    },
    {
      "cell_type": "code",
      "metadata": {
        "id": "pghJ_xRqhWBz"
      },
      "source": [
        "def feature_fusion_module(num_classes, input1, input2):\n",
        "  x = layers.Concatenate(axis=-1)([input1,input2])\n",
        "\n",
        "  feature = conv_bn_relu(x, num_classes, 3, 1)\n",
        "\n",
        "  x = tf.keras.layers.GlobalAveragePooling2D(keepdims=True)(feature)\n",
        "\n",
        "  x = layers.Conv2D(filters=num_classes, kernel_size=(1,1), strides=(1,1), use_bias=False)(x)\n",
        "  x = layers.ReLU()(x)\n",
        "\n",
        "  x = layers.Conv2D(filters=num_classes, kernel_size=(1,1), strides=(1,1), padding='same', use_bias=False)(x) \n",
        "  x = sigmoid(x)\n",
        "\n",
        "  x = layers.Multiply()([feature, x])\n",
        "\n",
        "  x = layers.Add()([feature, x]) \n",
        "\n",
        "  return x  \n"
      ],
      "execution_count": 38,
      "outputs": []
    },
    {
      "cell_type": "code",
      "metadata": {
        "id": "5pCiUVGk72Cr"
      },
      "source": [
        "def context_path(input):\n",
        "  features_list = [layer.output for layer in resnet_model.layers]\n",
        "  activations_model = tf.keras.Model(inputs=resnet_model.input, outputs=features_list)\n",
        "  activations = activations_model.predict(image)\n",
        "\n",
        "  layer_names = []\n",
        "  for layer in resnet_model.layers:\n",
        "      layer_names.append(layer.name)\n",
        "  for i, (layer_name, layer_activation) in enumerate(zip(layer_names, activations)):\n",
        "      if(layer_name == 'conv4_block23_out'):\n",
        "        feature16 = layer_activation\n",
        "      if(layer_name == 'conv5_block3_out'):\n",
        "        feature32 = layer_activation\n",
        "\n",
        "  tail = tf.math.reduce_mean(feature32, axis=1, keepdims=True)\n",
        "  tail = tf.math.reduce_mean(tail, axis=2, keepdims=True)\n",
        "\n",
        "  return feature16, feature32, tail"
      ],
      "execution_count": 44,
      "outputs": []
    },
    {
      "cell_type": "code",
      "metadata": {
        "colab": {
          "base_uri": "https://localhost:8080/"
        },
        "id": "rMEzzULRnPdp",
        "outputId": "14bb5256-5d77-485d-eb18-f06678b70fc2"
      },
      "source": [
        "sp = spatial_path(image)\n",
        "print(\"sp.shape: \", sp.shape)"
      ],
      "execution_count": 40,
      "outputs": [
        {
          "output_type": "stream",
          "name": "stdout",
          "text": [
            "sp.shape:  (1, 28, 28, 256)\n"
          ]
        }
      ]
    },
    {
      "cell_type": "code",
      "metadata": {
        "id": "mnm1026d8oVC"
      },
      "source": [
        "cx1, cx2, tail = context_path(image)"
      ],
      "execution_count": 45,
      "outputs": []
    },
    {
      "cell_type": "code",
      "metadata": {
        "colab": {
          "base_uri": "https://localhost:8080/"
        },
        "id": "RVVGbGDA9CP7",
        "outputId": "992ae056-f86d-4a57-a956-1ece5ed4e7a9"
      },
      "source": [
        "print(\"cx1.shape = \", cx1.shape)\n",
        "print(\"cx2.shape = \", cx2.shape)\n",
        "print(\"tail.shape = \", tail.shape)"
      ],
      "execution_count": 46,
      "outputs": [
        {
          "output_type": "stream",
          "name": "stdout",
          "text": [
            "cx1.shape =  (1, 14, 14, 1024)\n",
            "cx2.shape =  (1, 7, 7, 2048)\n",
            "tail.shape =  (1, 1, 1, 2048)\n"
          ]
        }
      ]
    },
    {
      "cell_type": "code",
      "metadata": {
        "id": "CpW3sEA_XdVT"
      },
      "source": [
        "cx1 = attention_refinement_module(1024, cx1)\n",
        "cx2 = attention_refinement_module(2048,cx2)\n"
      ],
      "execution_count": 47,
      "outputs": []
    },
    {
      "cell_type": "code",
      "metadata": {
        "colab": {
          "base_uri": "https://localhost:8080/"
        },
        "id": "a5O-uo5TWbsz",
        "outputId": "4f50a704-5435-46d6-beb5-96ff1aa73e77"
      },
      "source": [
        "print(\"cx1.shape = \",cx1.shape)\n",
        "print(\"cx2.shape = \",cx2.shape)"
      ],
      "execution_count": 48,
      "outputs": [
        {
          "output_type": "stream",
          "name": "stdout",
          "text": [
            "cx1.shape =  (1, 14, 14, 1024)\n",
            "cx2.shape =  (1, 7, 7, 2048)\n"
          ]
        }
      ]
    },
    {
      "cell_type": "code",
      "metadata": {
        "id": "GSEHc8bQYdLd"
      },
      "source": [
        "#cx2 = multiply([tail,cx2]) #I think this multiply happens after the upsampling\n",
        "#print(\"cx2.shape = \", cx2.shape)"
      ],
      "execution_count": 49,
      "outputs": []
    },
    {
      "cell_type": "code",
      "metadata": {
        "colab": {
          "base_uri": "https://localhost:8080/"
        },
        "id": "a3bIWRelZZMZ",
        "outputId": "7aec98f4-afd2-40b8-83f6-23068cb18d2e"
      },
      "source": [
        "# upsampling\n",
        "cx1 = UpSampling2D(size=2, data_format='channels_last', interpolation='bilinear')(cx1)\n",
        "cx2 = UpSampling2D(size=4, data_format='channels_last', interpolation='bilinear')(cx2)\n",
        "print(cx1.shape)\n",
        "print(cx2.shape)\n",
        "\n"
      ],
      "execution_count": 50,
      "outputs": [
        {
          "output_type": "stream",
          "name": "stdout",
          "text": [
            "(1, 28, 28, 1024)\n",
            "(1, 28, 28, 2048)\n"
          ]
        }
      ]
    },
    {
      "cell_type": "code",
      "metadata": {
        "colab": {
          "base_uri": "https://localhost:8080/"
        },
        "id": "nyHe_UNefhGf",
        "outputId": "8fc80ed6-d40b-4f6a-bfbc-5a80ba569ef1"
      },
      "source": [
        "cx2 = multiply([tail,cx2]) #I think this multiply happens after the upsampling\n",
        "print(\"cx2.shape = \", cx2.shape)"
      ],
      "execution_count": 51,
      "outputs": [
        {
          "output_type": "stream",
          "name": "stdout",
          "text": [
            "cx2.shape =  (1, 28, 28, 2048)\n"
          ]
        }
      ]
    },
    {
      "cell_type": "code",
      "metadata": {
        "colab": {
          "base_uri": "https://localhost:8080/"
        },
        "id": "Yz0qwNNihnv_",
        "outputId": "f161d675-2a86-4585-bc8c-0c0d6bdb3357"
      },
      "source": [
        "cx = Concatenate(axis=-1)([cx2, cx1])\n",
        "print(cx.shape)"
      ],
      "execution_count": 52,
      "outputs": [
        {
          "output_type": "stream",
          "name": "stdout",
          "text": [
            "(1, 28, 28, 3072)\n"
          ]
        }
      ]
    },
    {
      "cell_type": "code",
      "metadata": {
        "id": "hz-7YTPt6eb-"
      },
      "source": [
        "#result = feature_fusion_module(sp, cx)       \n",
        "num_classes  =  35\n",
        "num_positions = 7 #6 character positions and one position for background?\n",
        "semantic_features = feature_fusion_module(num_classes, sp, cx)\n",
        "position_features = feature_fusion_module(num_positions, sp, cx) "
      ],
      "execution_count": 53,
      "outputs": []
    },
    {
      "cell_type": "code",
      "metadata": {
        "colab": {
          "base_uri": "https://localhost:8080/"
        },
        "id": "dnQq79A802zP",
        "outputId": "35ebd034-6af4-486a-e7ab-647d361c3b69"
      },
      "source": [
        "print(\"semantic_result.shape = \", semantic_features.shape)\n",
        "print(\"position_result.shape = \", position_features.shape)"
      ],
      "execution_count": 54,
      "outputs": [
        {
          "output_type": "stream",
          "name": "stdout",
          "text": [
            "semantic_result.shape =  (1, 28, 28, 35)\n",
            "position_result.shape =  (1, 28, 28, 7)\n"
          ]
        }
      ]
    },
    {
      "cell_type": "code",
      "metadata": {
        "colab": {
          "base_uri": "https://localhost:8080/"
        },
        "id": "Oxlf9QPs1KPo",
        "outputId": "e6efe868-2bdf-45bb-d6b5-a6fd02673f51"
      },
      "source": [
        "# upsampling, use for visualization, I don't think the upsampled versions go into shared classifier?\n",
        "semantic_featuresUP = UpSampling2D(size=8, data_format='channels_last', interpolation='bilinear')(semantic_features)\n",
        "print(\"semantic_featuresUP.shape = \", semantic_featuresUP.shape)\n",
        "position_featuresUP = UpSampling2D(size=8, data_format='channels_last', interpolation='bilinear')(position_features)\n",
        "print(\"position_featuresUP.shape = \", position_featuresUP.shape)"
      ],
      "execution_count": 55,
      "outputs": [
        {
          "output_type": "stream",
          "name": "stdout",
          "text": [
            "semantic_featuresUP.shape =  (1, 224, 224, 35)\n",
            "position_featuresUP.shape =  (1, 224, 224, 7)\n"
          ]
        }
      ]
    },
    {
      "cell_type": "code",
      "metadata": {
        "id": "wHKYgFdqfex7",
        "colab": {
          "base_uri": "https://localhost:8080/",
          "height": 286
        },
        "outputId": "0dd6bcef-8fe9-4958-fdb9-9a6286043965"
      },
      "source": [
        "#visualize upsampled semantic and position maps\n",
        "semantic_result = tf.squeeze(semantic_featuresUP)\n",
        "semantic_result = tf.argmax(semantic_result, axis=2)\n",
        "plt.imshow(semantic_result)"
      ],
      "execution_count": 56,
      "outputs": [
        {
          "output_type": "execute_result",
          "data": {
            "text/plain": [
              "<matplotlib.image.AxesImage at 0x7f0431e46c90>"
            ]
          },
          "metadata": {},
          "execution_count": 56
        },
        {
          "output_type": "display_data",
          "data": {
            "image/png": "[encoded data removed]",
            "text/plain": [
              "<Figure size 432x288 with 1 Axes>"
            ]
          },
          "metadata": {
            "needs_background": "light"
          }
        }
      ]
    },
    {
      "cell_type": "code",
      "metadata": {
        "colab": {
          "base_uri": "https://localhost:8080/",
          "height": 286
        },
        "id": "IemNOnhCh-pC",
        "outputId": "673c919c-cddb-4d0e-8874-601316adb34e"
      },
      "source": [
        "position_result = tf.squeeze(position_featuresUP)\n",
        "position_result = tf.argmax(position_result, axis=2)\n",
        "plt.imshow(position_result)"
      ],
      "execution_count": 57,
      "outputs": [
        {
          "output_type": "execute_result",
          "data": {
            "text/plain": [
              "<matplotlib.image.AxesImage at 0x7f0431938150>"
            ]
          },
          "metadata": {},
          "execution_count": 57
        },
        {
          "output_type": "display_data",
          "data": {
            "image/png": "[encoded data removed]",
            "text/plain": [
              "<Figure size 432x288 with 1 Axes>"
            ]
          },
          "metadata": {
            "needs_background": "light"
          }
        }
      ]
    },
    {
      "cell_type": "code",
      "metadata": {
        "colab": {
          "base_uri": "https://localhost:8080/"
        },
        "id": "qJmUP-XY1pJb",
        "outputId": "ba814e36-0e54-4a0b-f445-8ea9705a84b7"
      },
      "source": [
        "#final convolution\n",
        "#I don't think this convolution is needed, but add later if needed\n",
        "# semantic_result2 = layers.Conv2D(filters=num_classes, kernel_size=1, strides=1)(semantic_features)\n",
        "# print(\"semantic_result2.shape = \", semantic_result2.shape)\n",
        "# position_result2 = layers.Conv2D(filters=num_positions, kernel_size=1, strides=1)(position_features)\n",
        "# print(\"position_result2.shape = \", position_result2.shape)"
      ],
      "execution_count": null,
      "outputs": [
        {
          "output_type": "stream",
          "name": "stdout",
          "text": [
            "semantic_result2.shape =  (1, 224, 224, 35)\n",
            "position_result2.shape =  (1, 224, 224, 6)\n"
          ]
        }
      ]
    },
    {
      "cell_type": "code",
      "metadata": {
        "id": "rcBI0Iirj3tK"
      },
      "source": [
        "#apply softmax to position attention maps and batchNorm to semantic features\n",
        "pos_att_map = softmax(position_features)\n",
        "semantic_output = layers.BatchNormalization()(semantic_features)"
      ],
      "execution_count": null,
      "outputs": []
    },
    {
      "cell_type": "code",
      "metadata": {
        "id": "xVUpaYxaj3xm"
      },
      "source": [
        "#element-wise multiplication, position attention map of each character is used to \n",
        "# modulate the semantic features separately\n",
        "#remove background layer from pos_att_map prior to multiplication (I think this is the last layer?)\n",
        "for i in range(0,num_positions):\n",
        "  #multiply ith slice of pos_att_map by some part of semantic_output tensor\n",
        "\n"
      ],
      "execution_count": null,
      "outputs": []
    },
    {
      "cell_type": "code",
      "metadata": {
        "id": "zq2hFLp706_f"
      },
      "source": [
        "#Shared Classifier:\n",
        "#5x5 convolution, batch norm, ReLU (verify parameter values later)\n",
        "#input the result from multiplying semantic_output and pos_att_map\n",
        "x = conv_bn_relu(input=, filters=idk, kernel_size=(5,5), strides=(1,1), padding='same')(result)\n",
        "#global pooling\n",
        "x = layers.GlobalAveragePooling2D(keepdims=True)(x)\n",
        "#fully connected layer for classification\n",
        "output = layers.Dense(35)(x)"
      ],
      "execution_count": null,
      "outputs": []
    },
    {
      "cell_type": "code",
      "metadata": {
        "id": "VR_KezpzhW76"
      },
      "source": [
        ""
      ],
      "execution_count": null,
      "outputs": []
    }
  ]
}