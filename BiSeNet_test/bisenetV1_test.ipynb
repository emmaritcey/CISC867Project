{
  "nbformat": 4,
  "nbformat_minor": 0,
  "metadata": {
    "colab": {
      "name": "bisenetV1_test.ipynb",
      "provenance": [],
      "collapsed_sections": []
    },
    "kernelspec": {
      "name": "python3",
      "display_name": "Python 3"
    },
    "language_info": {
      "name": "python"
    }
  },
  "cells": [
    {
      "cell_type": "code",
      "metadata": {
        "id": "bZTHTgZOuBQL"
      },
      "source": [
        "%matplotlib inline  \n",
        "import matplotlib.pyplot as plt\n",
        "import tensorflow as tf \n",
        "from keras.models import Model\n",
        "from tensorflow.keras import datasets, layers, models\n",
        "from keras.layers import Conv2D, Input, multiply, UpSampling2D, Concatenate\n",
        "from keras.applications.resnet import ResNet101,preprocess_input\n",
        "from keras.preprocessing.image import load_img, img_to_array\n",
        "from tensorflow.keras.activations import sigmoid\n",
        "from tensorflow.keras.applications.resnet import ResNet101\n"
      ],
      "execution_count": 1,
      "outputs": []
    },
    {
      "cell_type": "code",
      "metadata": {
        "colab": {
          "base_uri": "https://localhost:8080/"
        },
        "id": "rF68qcA7HMnA",
        "outputId": "2dae94a0-b1d2-47df-e38b-ef1816d77730"
      },
      "source": [
        "!wget https://wallpapercave.com/wp/qTcYPPc.jpg"
      ],
      "execution_count": 2,
      "outputs": [
        {
          "output_type": "stream",
          "name": "stdout",
          "text": [
            "--2021-11-26 14:27:14--  https://wallpapercave.com/wp/qTcYPPc.jpg\n",
            "Resolving wallpapercave.com (wallpapercave.com)... 172.67.20.199, 104.22.60.71, 104.22.61.71, ...\n",
            "Connecting to wallpapercave.com (wallpapercave.com)|172.67.20.199|:443... connected.\n",
            "HTTP request sent, awaiting response... 200 OK\n",
            "Length: 304341 (297K) [image/jpeg]\n",
            "Saving to: ‘qTcYPPc.jpg’\n",
            "\n",
            "qTcYPPc.jpg         100%[===================>] 297.21K  --.-KB/s    in 0.09s   \n",
            "\n",
            "2021-11-26 14:27:14 (3.36 MB/s) - ‘qTcYPPc.jpg’ saved [304341/304341]\n",
            "\n"
          ]
        }
      ]
    },
    {
      "cell_type": "code",
      "metadata": {
        "id": "umGbY120HSO8"
      },
      "source": [
        "!mv qTcYPPc.jpg dog.jpg"
      ],
      "execution_count": 3,
      "outputs": []
    },
    {
      "cell_type": "code",
      "metadata": {
        "id": "PgBVlCbhFBwr"
      },
      "source": [
        "image = load_img('dog.jpg', target_size=(224, 224))"
      ],
      "execution_count": 4,
      "outputs": []
    },
    {
      "cell_type": "code",
      "metadata": {
        "id": "OmBFlqVOIT0f"
      },
      "source": [
        "image = img_to_array(image)\n",
        "# reshape data for the model\n",
        "image = image.reshape((1, image.shape[0], image.shape[1], image.shape[2]))\n",
        "# prepare the image for the VGG model\n",
        "image = preprocess_input(image)"
      ],
      "execution_count": 5,
      "outputs": []
    },
    {
      "cell_type": "code",
      "metadata": {
        "id": "i2qhhWH4DxGw"
      },
      "source": [
        "inputs = Input(shape=(224, 224, 3))"
      ],
      "execution_count": 6,
      "outputs": []
    },
    {
      "cell_type": "code",
      "metadata": {
        "id": "GpNh9yBZcDB-",
        "colab": {
          "base_uri": "https://localhost:8080/"
        },
        "outputId": "a058a2c9-f88c-465d-a9bd-dfbe2ca69e12"
      },
      "source": [
        "resnet_model = ResNet101(weights='imagenet',input_tensor=inputs, include_top=False)"
      ],
      "execution_count": 7,
      "outputs": [
        {
          "output_type": "stream",
          "name": "stdout",
          "text": [
            "Downloading data from https://storage.googleapis.com/tensorflow/keras-applications/resnet/resnet101_weights_tf_dim_ordering_tf_kernels_notop.h5\n",
            "171450368/171446536 [==============================] - 2s 0us/step\n",
            "171458560/171446536 [==============================] - 2s 0us/step\n"
          ]
        }
      ]
    },
    {
      "cell_type": "code",
      "metadata": {
        "id": "tV39NGqecGoT"
      },
      "source": [
        "#resnet_model.summary()"
      ],
      "execution_count": 8,
      "outputs": []
    },
    {
      "cell_type": "code",
      "metadata": {
        "id": "mMU6inSm2FVe"
      },
      "source": [
        "def conv_bn_relu(input, filters, kernel_size=(3, 3), strides=(2, 2), padding='same'):\n",
        "  x = layers.Conv2D(filters=filters, kernel_size=kernel_size, strides=strides, padding=padding, use_bias=False)(input) \n",
        "  x = layers.BatchNormalization()(x)\n",
        "  x = layers.ReLU()(x)\n",
        "  return x"
      ],
      "execution_count": 9,
      "outputs": []
    },
    {
      "cell_type": "markdown",
      "metadata": {
        "id": "MzT918uZIK0O"
      },
      "source": [
        "## spatial path"
      ]
    },
    {
      "cell_type": "code",
      "metadata": {
        "id": "vhxRcvtFY_iA"
      },
      "source": [
        "#extracts feature maps that are 1/8 of the original image\n",
        "def spatial_path(input):\n",
        "  x = conv_bn_relu(input, 64)\n",
        "  x = conv_bn_relu(x, 128)\n",
        "  x = conv_bn_relu(x, 256)\n",
        "  return x\n"
      ],
      "execution_count": 10,
      "outputs": []
    },
    {
      "cell_type": "markdown",
      "metadata": {
        "id": "tFj_n1lOITw_"
      },
      "source": [
        "## context path"
      ]
    },
    {
      "cell_type": "code",
      "metadata": {
        "id": "i-Nl6mQZcOhD"
      },
      "source": [
        "def attention_refinement_module(out_channels, input):\n",
        "  x = layers.GlobalAveragePooling2D(keepdims=True)(input)\n",
        "\n",
        "  x = layers.Conv2D(filters=out_channels, kernel_size=(1, 1), strides=(1, 1))(x)  \n",
        "\n",
        "  x = layers.BatchNormalization()(x)\n",
        "  x = layers.Activation('sigmoid')(x)\n",
        "  \n",
        "  x = layers.Multiply()([input, x])\n",
        "\n",
        "  return x"
      ],
      "execution_count": 11,
      "outputs": []
    },
    {
      "cell_type": "code",
      "metadata": {
        "id": "pghJ_xRqhWBz"
      },
      "source": [
        "def feature_fusion_module(num_classes, input1, input2):\n",
        "  x = layers.Concatenate(axis=-1)([input1,input2])\n",
        "\n",
        "  feature = conv_bn_relu(x, num_classes, 3, 1)\n",
        "\n",
        "  x = tf.keras.layers.GlobalAveragePooling2D(keepdims=True)(feature)\n",
        "\n",
        "  x = conv_bn_relu(x, num_classes, 1, 2)\n",
        "  x = layers.ReLU()(x)\n",
        "\n",
        "  x = conv_bn_relu(x, num_classes, 1, 2)\n",
        "  x = sigmoid(x)\n",
        "\n",
        "  x = layers.Multiply()([feature, x])\n",
        "\n",
        "  x = layers.Add()([feature, x]) \n",
        "\n",
        "  return x  \n"
      ],
      "execution_count": 12,
      "outputs": []
    },
    {
      "cell_type": "code",
      "metadata": {
        "id": "5pCiUVGk72Cr"
      },
      "source": [
        "def context_path(input):\n",
        "  features_list = [layer.output for layer in resnet_model.layers]\n",
        "  activations_model = tf.keras.Model(inputs=resnet_model.input, outputs=features_list)\n",
        "  activations = activations_model.predict(image)\n",
        "\n",
        "  layer_names = []\n",
        "  for layer in resnet_model.layers:\n",
        "      layer_names.append(layer.name)\n",
        "  for i, (layer_name, layer_activation) in enumerate(zip(layer_names, activations)):\n",
        "      if(layer_name == 'conv4_block23_out'):\n",
        "        feature16 = layer_activation\n",
        "      if(layer_name == 'conv5_block3_out'):\n",
        "        feature32 = layer_activation\n",
        "\n",
        "  tail = tf.math.reduce_mean(feature32, axis=1, keepdims=True)\n",
        "  tail = tf.math.reduce_mean(tail, axis=2, keepdims=True)\n",
        "\n",
        "  return feature16, feature32, tail"
      ],
      "execution_count": 13,
      "outputs": []
    },
    {
      "cell_type": "code",
      "metadata": {
        "colab": {
          "base_uri": "https://localhost:8080/"
        },
        "id": "rMEzzULRnPdp",
        "outputId": "6e85ef13-860b-44cb-bb12-f0ae8cd34be6"
      },
      "source": [
        "sp = spatial_path(image)\n",
        "print(\"sp.shape: \", sp.shape)"
      ],
      "execution_count": 14,
      "outputs": [
        {
          "output_type": "stream",
          "name": "stdout",
          "text": [
            "sp.shape:  (1, 28, 28, 256)\n"
          ]
        }
      ]
    },
    {
      "cell_type": "code",
      "metadata": {
        "id": "mnm1026d8oVC"
      },
      "source": [
        "cx1, cx2, tail = context_path(image)"
      ],
      "execution_count": 15,
      "outputs": []
    },
    {
      "cell_type": "code",
      "metadata": {
        "colab": {
          "base_uri": "https://localhost:8080/"
        },
        "id": "RVVGbGDA9CP7",
        "outputId": "1d381870-e0d5-49bc-99f6-c7a416ef4fa7"
      },
      "source": [
        "print(\"cx1.shape = \", cx1.shape)\n",
        "print(\"cx2.shape = \", cx2.shape)\n",
        "print(\"tail.shape = \", tail.shape)"
      ],
      "execution_count": 16,
      "outputs": [
        {
          "output_type": "stream",
          "name": "stdout",
          "text": [
            "cx1.shape =  (1, 14, 14, 1024)\n",
            "cx2.shape =  (1, 7, 7, 2048)\n",
            "tail.shape =  (1, 1, 1, 2048)\n"
          ]
        }
      ]
    },
    {
      "cell_type": "code",
      "metadata": {
        "id": "CpW3sEA_XdVT"
      },
      "source": [
        "cx1 = attention_refinement_module(1024, cx1)\n",
        "cx2 = attention_refinement_module(2048,cx2)\n"
      ],
      "execution_count": 17,
      "outputs": []
    },
    {
      "cell_type": "code",
      "metadata": {
        "colab": {
          "base_uri": "https://localhost:8080/"
        },
        "id": "a5O-uo5TWbsz",
        "outputId": "419a227a-a88a-4f6c-a18a-b99946684a05"
      },
      "source": [
        "print(\"cx1.shape = \",cx1.shape)\n",
        "print(\"cx2.shape = \",cx2.shape)"
      ],
      "execution_count": 18,
      "outputs": [
        {
          "output_type": "stream",
          "name": "stdout",
          "text": [
            "cx1.shape =  (1, 14, 14, 1024)\n",
            "cx2.shape =  (1, 7, 7, 2048)\n"
          ]
        }
      ]
    },
    {
      "cell_type": "code",
      "metadata": {
        "colab": {
          "base_uri": "https://localhost:8080/"
        },
        "id": "GSEHc8bQYdLd",
        "outputId": "ae6d1a1f-fcc1-454a-8f99-dbaaa1015e24"
      },
      "source": [
        "cx2 = multiply([tail,cx2])\n",
        "print(\"cx2.shape = \", cx2.shape)"
      ],
      "execution_count": 19,
      "outputs": [
        {
          "output_type": "stream",
          "name": "stdout",
          "text": [
            "cx2.shape =  (1, 7, 7, 2048)\n"
          ]
        }
      ]
    },
    {
      "cell_type": "code",
      "metadata": {
        "colab": {
          "base_uri": "https://localhost:8080/"
        },
        "id": "a3bIWRelZZMZ",
        "outputId": "8d802e08-7b40-441a-dd89-15533968eb79"
      },
      "source": [
        "# upsampling\n",
        "cx1 = UpSampling2D(size=2, data_format='channels_last', interpolation='bilinear')(cx1)\n",
        "cx2 = UpSampling2D(size=4, data_format='channels_last', interpolation='bilinear')(cx2)\n",
        "print(cx1.shape)\n",
        "print(cx2.shape)\n",
        "\n"
      ],
      "execution_count": 20,
      "outputs": [
        {
          "output_type": "stream",
          "name": "stdout",
          "text": [
            "(1, 28, 28, 1024)\n",
            "(1, 28, 28, 2048)\n"
          ]
        }
      ]
    },
    {
      "cell_type": "code",
      "metadata": {
        "colab": {
          "base_uri": "https://localhost:8080/"
        },
        "id": "Yz0qwNNihnv_",
        "outputId": "f7173637-4abb-41f1-af7e-592b7bf987b9"
      },
      "source": [
        "cx = Concatenate(axis=-1)([cx2, cx1])\n",
        "print(cx.shape)"
      ],
      "execution_count": 21,
      "outputs": [
        {
          "output_type": "stream",
          "name": "stdout",
          "text": [
            "(1, 28, 28, 3072)\n"
          ]
        }
      ]
    },
    {
      "cell_type": "code",
      "metadata": {
        "id": "hz-7YTPt6eb-"
      },
      "source": [
        "#result = feature_fusion_module(sp, cx)       \n",
        "num_classes  =  12     \n",
        "result = feature_fusion_module(num_classes, sp, cx)"
      ],
      "execution_count": 22,
      "outputs": []
    },
    {
      "cell_type": "code",
      "metadata": {
        "colab": {
          "base_uri": "https://localhost:8080/"
        },
        "id": "dnQq79A802zP",
        "outputId": "8339ba0e-3e84-4741-a9ce-c8e786165fbf"
      },
      "source": [
        "print(\"result.shape = \",result.shape)"
      ],
      "execution_count": 23,
      "outputs": [
        {
          "output_type": "stream",
          "name": "stdout",
          "text": [
            "result.shape =  (1, 28, 28, 12)\n"
          ]
        }
      ]
    },
    {
      "cell_type": "code",
      "metadata": {
        "colab": {
          "base_uri": "https://localhost:8080/"
        },
        "id": "Oxlf9QPs1KPo",
        "outputId": "ee17bac1-d005-4480-c693-f3c445940789"
      },
      "source": [
        "# upsampling\n",
        "result1 = UpSampling2D(size=8, data_format='channels_last', interpolation='bilinear')(result)\n",
        "print(\"result1.shape = \", result1.shape)"
      ],
      "execution_count": 24,
      "outputs": [
        {
          "output_type": "stream",
          "name": "stdout",
          "text": [
            "result1.shape =  (1, 224, 224, 12)\n"
          ]
        }
      ]
    },
    {
      "cell_type": "code",
      "metadata": {
        "colab": {
          "base_uri": "https://localhost:8080/"
        },
        "id": "qJmUP-XY1pJb",
        "outputId": "1b4d874d-330e-49ec-d3c4-3a41d7318369"
      },
      "source": [
        "#final convolution\n",
        "result2 = layers.Conv2D(filters=num_classes, kernel_size=1, strides=1)(result1)\n",
        "print(\"result2.shape = \", result2.shape)"
      ],
      "execution_count": 25,
      "outputs": [
        {
          "output_type": "stream",
          "name": "stdout",
          "text": [
            "result2.shape =  (1, 224, 224, 12)\n"
          ]
        }
      ]
    },
    {
      "cell_type": "code",
      "metadata": {
        "colab": {
          "base_uri": "https://localhost:8080/"
        },
        "id": "TezOGBYvSqpi",
        "outputId": "eaa3178d-9143-4bac-f52a-4ff13023e986"
      },
      "source": [
        "result3 = tf.squeeze(result2)\n",
        "print(\"result3.shape = \",result3.shape)"
      ],
      "execution_count": 26,
      "outputs": [
        {
          "output_type": "stream",
          "name": "stdout",
          "text": [
            "result3.shape =  (224, 224, 12)\n"
          ]
        }
      ]
    },
    {
      "cell_type": "code",
      "metadata": {
        "colab": {
          "base_uri": "https://localhost:8080/"
        },
        "id": "rNjgc9XrYfUG",
        "outputId": "86a403de-5d31-4813-8cdc-52f7ef712651"
      },
      "source": [
        "result4 = tf.argmax(result3,axis=2)\n",
        "print(result4.shape)"
      ],
      "execution_count": 27,
      "outputs": [
        {
          "output_type": "stream",
          "name": "stdout",
          "text": [
            "(224, 224)\n"
          ]
        }
      ]
    },
    {
      "cell_type": "markdown",
      "metadata": {
        "id": "2aWirWVEogDH"
      },
      "source": [
        "The weights were random data and not trained yet, so the output picture is not a meaningful segmentation.\n",
        "\n",
        "Just for data flow checking"
      ]
    },
    {
      "cell_type": "code",
      "metadata": {
        "colab": {
          "base_uri": "https://localhost:8080/",
          "height": 269
        },
        "id": "pxJ0KJ4RCEyK",
        "outputId": "0e092044-c8fb-4e32-9c85-4acc798abe8c"
      },
      "source": [
        "imgplot = plt.imshow(result4)\n",
        "#the weights were not trained for segmentaion yet, so the picture is incorrect"
      ],
      "execution_count": 28,
      "outputs": [
        {
          "output_type": "display_data",
          "data": {
            "image/png": "[encoded data removed]",
            "text/plain": [
              "<Figure size 432x288 with 1 Axes>"
            ]
          },
          "metadata": {
            "needs_background": "light"
          }
        }
      ]
    }
  ]
}